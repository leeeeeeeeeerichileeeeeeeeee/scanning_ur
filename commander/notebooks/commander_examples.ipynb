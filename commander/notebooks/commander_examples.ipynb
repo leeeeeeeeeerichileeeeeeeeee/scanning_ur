{
 "cells": [
  {
   "cell_type": "markdown",
   "metadata": {},
   "source": [
    "# commander examples\n"
   ]
  },
  {
   "cell_type": "code",
   "execution_count": 1,
   "metadata": {},
   "outputs": [],
   "source": [
    "from typing import List\n",
    "from math import pi\n",
    "import rospy\n",
    "from copy import deepcopy\n",
    "\n",
    "from moveit_commander import PlanningSceneInterface\n",
    "\n",
    "from geometry_msgs.msg import (\n",
    "    Pose,\n",
    "    PoseStamped,\n",
    "    Point,\n",
    "    Quaternion,\n",
    ")\n",
    "from commander.msg import Goal\n",
    "from commander.srv import (\n",
    "    ExecuteTrajectory,\n",
    "    PlanGoal,\n",
    "    PlanGoalRequest,\n",
    "    PlanSequence,\n",
    "    PlanSequenceRequest,\n",
    "    PickPlace,\n",
    "    GetTcpPose,\n",
    "    VisualizePoses,\n",
    "    SetEe,\n",
    ")\n",
    "\n",
    "from commander.utils import poses_from_yaml, load_scene\n",
    "from commander.transform_utils import orient_poses, create_rotation_matrix, apply_transformation\n",
    "\n",
    "plan_goal_srv = rospy.ServiceProxy(\"commander/plan_goal\", PlanGoal)\n",
    "plan_sequence_srv = rospy.ServiceProxy(\"commander/plan_sequence\", PlanSequence)\n",
    "execute_trajectory_srv = rospy.ServiceProxy(\"commander/execute_trajectory\", ExecuteTrajectory)\n",
    "get_tcp_pose_srv = rospy.ServiceProxy(\"commander/get_tcp_pose\", GetTcpPose)\n",
    "set_ee_srv = rospy.ServiceProxy(\"commander/set_ee\", SetEe)\n",
    "pick_place_srv = rospy.ServiceProxy(\"commander/pick_place\", PickPlace)\n",
    "\n",
    "\n",
    "def display_poses(poses: List[Pose], frame_id: str = \"base_link\") -> None:\n",
    "    rospy.wait_for_service(\"/visualize_poses\", timeout=10)\n",
    "    visualize_poses = rospy.ServiceProxy(\"/visualize_poses\", VisualizePoses)\n",
    "    visualize_poses(frame_id, poses)\n",
    "\n",
    "\n",
    "rospy.init_node(\"robot_program\")\n",
    "scene = PlanningSceneInterface()\n",
    "load_scene()"
   ]
  },
  {
   "cell_type": "markdown",
   "metadata": {},
   "source": [
    "plan to goal"
   ]
  },
  {
   "cell_type": "code",
   "execution_count": 19,
   "metadata": {},
   "outputs": [],
   "source": [
    "cam_home = [0.0, -1.5708, 1.5708, -3.1416, -1.5708, 0]"
   ]
  },
  {
   "cell_type": "code",
   "execution_count": 20,
   "metadata": {},
   "outputs": [
    {
     "data": {
      "text/plain": [
       "success: True\n",
       "configuration_change: False"
      ]
     },
     "execution_count": 20,
     "metadata": {},
     "output_type": "execute_result"
    }
   ],
   "source": [
    "# the following args for planner are available:\n",
    "# - 'ompl' will use the ompl planning pipeline with RTTConnect planner\n",
    "# - 'ptp' will use the pilz planning pipeline with the PTP planner\n",
    "# - 'lin' will use the pilz planning pipeline with the LIN planner\n",
    "\n",
    "plan_goal_srv(Goal(joint_values=cam_home, vel_scale=0.1, acc_scale=0.1, planner=\"ptp\"))"
   ]
  },
  {
   "cell_type": "code",
   "execution_count": 21,
   "metadata": {},
   "outputs": [],
   "source": [
    "success = execute_trajectory_srv()"
   ]
  },
  {
   "cell_type": "code",
   "execution_count": 22,
   "metadata": {},
   "outputs": [],
   "source": [
    "success = set_ee_srv(\"rgb_camera_tcp\")"
   ]
  },
  {
   "cell_type": "code",
   "execution_count": 23,
   "metadata": {},
   "outputs": [],
   "source": [
    "target0 = Pose(\n",
    "    position=Point(0.5, -0.4, 0.4),\n",
    "    orientation=Quaternion(0.7071067811865476, -0.7071067811865475, 0.0, 0.0),\n",
    ")\n",
    "target1 = Pose(\n",
    "    position=Point(0.5, 0.4, 0.4),\n",
    "    orientation=Quaternion(0.7071067811865476, -0.7071067811865475, 0.0, 0.0),\n",
    ")\n",
    "display_poses([target0, target1])"
   ]
  },
  {
   "cell_type": "code",
   "execution_count": 24,
   "metadata": {},
   "outputs": [],
   "source": [
    "success = plan_goal_srv(\n",
    "    Goal(\n",
    "        pose=target0,\n",
    "        vel_scale=0.2,\n",
    "        acc_scale=0.2,\n",
    "        planner=\"ptp\",\n",
    "    )\n",
    ").success"
   ]
  },
  {
   "cell_type": "code",
   "execution_count": 25,
   "metadata": {},
   "outputs": [],
   "source": [
    "success = execute_trajectory_srv()"
   ]
  },
  {
   "cell_type": "code",
   "execution_count": 26,
   "metadata": {},
   "outputs": [],
   "source": [
    "success = plan_goal_srv(\n",
    "    Goal(\n",
    "        pose=target1,\n",
    "        vel_scale=0.1,\n",
    "        acc_scale=0.1,\n",
    "        planner=\"lin\",\n",
    "    )\n",
    ").success"
   ]
  },
  {
   "cell_type": "code",
   "execution_count": 27,
   "metadata": {},
   "outputs": [],
   "source": [
    "success = execute_trajectory_srv()"
   ]
  },
  {
   "cell_type": "markdown",
   "metadata": {},
   "source": [
    "plan a sequence of goals\n"
   ]
  },
  {
   "cell_type": "code",
   "execution_count": 28,
   "metadata": {},
   "outputs": [
    {
     "data": {
      "text/plain": [
       "success: True\n",
       "configuration_change: False"
      ]
     },
     "execution_count": 28,
     "metadata": {},
     "output_type": "execute_result"
    }
   ],
   "source": [
    "plan_sequence_srv(\n",
    "    goals=[\n",
    "        Goal(\n",
    "            joint_values=[0.0, -1.5708, 1.5708, -3.1416, -1.5708, 0],\n",
    "            vel_scale=0.1,\n",
    "            acc_scale=0.1,\n",
    "            planner=\"ptp\",\n",
    "        ),\n",
    "        Goal(pose=target0, vel_scale=0.1, acc_scale=0.1, planner=\"ptp\"),\n",
    "        Goal(pose=target1, vel_scale=0.1, acc_scale=0.1, planner=\"lin\"),\n",
    "    ],\n",
    "    blends=[0.0, 0.2, 0.0],\n",
    ")"
   ]
  },
  {
   "cell_type": "code",
   "execution_count": 29,
   "metadata": {},
   "outputs": [],
   "source": [
    "success = execute_trajectory_srv()"
   ]
  },
  {
   "cell_type": "code",
   "execution_count": 21,
   "metadata": {},
   "outputs": [],
   "source": [
    "sequence = poses_from_yaml(\"/dev_ws/src/commander/data/sequence_S.yaml\")\n",
    "origin = Pose(position=Point(0.75, 0.0, -0.6), orientation=Quaternion(0.0, 0.0, 0.0, 1.0))\n",
    "sequence = orient_poses(origin, sequence)\n",
    "tf = create_rotation_matrix([0, 0, pi])\n",
    "sequence = [apply_transformation(pose, tf) for pose in sequence]\n",
    "display_poses(sequence)\n",
    "success = set_ee_srv(\"gripper_tcp\")"
   ]
  },
  {
   "cell_type": "code",
   "execution_count": 22,
   "metadata": {},
   "outputs": [],
   "source": [
    "success = plan_goal_srv(\n",
    "    Goal(joint_values=cam_home, vel_scale=0.2, acc_scale=0.2, planner=\"ptp\")\n",
    ").success"
   ]
  },
  {
   "cell_type": "code",
   "execution_count": 23,
   "metadata": {},
   "outputs": [],
   "source": [
    "success = execute_trajectory_srv()"
   ]
  },
  {
   "cell_type": "code",
   "execution_count": 24,
   "metadata": {},
   "outputs": [],
   "source": [
    "for pose in sequence:\n",
    "    resp = plan_goal_srv(Goal(pose=pose, vel_scale=0.2, acc_scale=0.2, planner=\"ptp\"))\n",
    "    if resp.success:\n",
    "        success = execute_trajectory_srv()\n",
    "    else:\n",
    "        break"
   ]
  },
  {
   "cell_type": "markdown",
   "metadata": {},
   "source": [
    "pick and place"
   ]
  },
  {
   "cell_type": "code",
   "execution_count": 25,
   "metadata": {},
   "outputs": [],
   "source": [
    "pick_pose = Pose(\n",
    "    position=Point(0.8, 0.0, -0.5),\n",
    "    orientation=Quaternion(0.7071067811865476, -0.7071067811865475, 0, 0),\n",
    ")\n",
    "pick_approach = deepcopy(pick_pose)\n",
    "pick_approach.position.z += 0.1\n",
    "obj_pose = PoseStamped()\n",
    "thickness = 0.1\n",
    "obj_pose.header.frame_id = \"base_link\"\n",
    "obj_pose.pose = deepcopy(pick_pose)\n",
    "obj_pose.pose.position.z -= (thickness / 2.0) + 0.05\n",
    "display_poses([pick_pose, pick_approach])\n",
    "scene.add_box(\"plank\", obj_pose, (1.0, 0.1, thickness))"
   ]
  },
  {
   "cell_type": "code",
   "execution_count": 26,
   "metadata": {},
   "outputs": [],
   "source": [
    "resp = plan_sequence_srv(\n",
    "    goals=[\n",
    "        Goal(\n",
    "            joint_values=[0.0, -1.5708, 1.5708, -3.1416, -1.5708, 0],\n",
    "            vel_scale=0.2,\n",
    "            acc_scale=0.2,\n",
    "            planner=\"ptp\",\n",
    "        ),\n",
    "        Goal(pose=pick_approach, vel_scale=0.2, acc_scale=0.2, planner=\"ptp\"),\n",
    "        Goal(pose=pick_pose, vel_scale=0.2, acc_scale=0.2, planner=\"lin\"),\n",
    "    ],\n",
    "    blends=[0.0, 0.05, 0.0],\n",
    ")\n",
    "if resp.success:\n",
    "    success = execute_trajectory_srv()"
   ]
  },
  {
   "cell_type": "code",
   "execution_count": null,
   "metadata": {},
   "outputs": [],
   "source": [
    "pick_place_srv(True, \"plank\")"
   ]
  },
  {
   "cell_type": "code",
   "execution_count": 28,
   "metadata": {},
   "outputs": [],
   "source": [
    "resp = plan_sequence_srv(\n",
    "    goals=[\n",
    "        Goal(pose=pick_approach, vel_scale=0.2, acc_scale=0.2, planner=\"lin\"),\n",
    "        Goal(\n",
    "            joint_values=[0.0, -1.5708, 1.5708, -3.1416, -1.5708, 0],\n",
    "            vel_scale=0.2,\n",
    "            acc_scale=0.2,\n",
    "            planner=\"ptp\",\n",
    "        ),\n",
    "    ],\n",
    "    blends=[0.01, 0.0],\n",
    ")\n",
    "if resp.success:\n",
    "    success = execute_trajectory_srv()"
   ]
  },
  {
   "cell_type": "code",
   "execution_count": 29,
   "metadata": {},
   "outputs": [],
   "source": [
    "resp = plan_sequence_srv(\n",
    "    goals=[\n",
    "        Goal(\n",
    "            joint_values=[0.0, -1.5708, 1.5708, -3.1416, -1.5708, 0],\n",
    "            vel_scale=0.2,\n",
    "            acc_scale=0.2,\n",
    "            planner=\"ptp\",\n",
    "        ),\n",
    "        Goal(pose=pick_approach, vel_scale=0.2, acc_scale=0.2, planner=\"ptp\"),\n",
    "        Goal(pose=pick_pose, vel_scale=0.2, acc_scale=0.2, planner=\"lin\"),\n",
    "    ],\n",
    "    blends=[0.0, 0.05, 0.0],\n",
    ")\n",
    "if resp.success:\n",
    "    success = execute_trajectory_srv()"
   ]
  },
  {
   "cell_type": "code",
   "execution_count": null,
   "metadata": {},
   "outputs": [],
   "source": [
    "pick_place_srv(False, \"plank\")"
   ]
  }
 ],
 "metadata": {
  "kernelspec": {
   "display_name": "Python 3",
   "language": "python",
   "name": "python3"
  },
  "language_info": {
   "codemirror_mode": {
    "name": "ipython",
    "version": 3
   },
   "file_extension": ".py",
   "mimetype": "text/x-python",
   "name": "python",
   "nbconvert_exporter": "python",
   "pygments_lexer": "ipython3",
   "version": "3.8.10"
  },
  "orig_nbformat": 4
 },
 "nbformat": 4,
 "nbformat_minor": 2
}
