{
 "cells": [
  {
   "cell_type": "code",
   "execution_count": 1,
   "metadata": {},
   "outputs": [],
   "source": [
    "from typing import List, Tuple\n",
    "from math import pi\n",
    "from datetime import datetime\n",
    "import rospy\n",
    "from copy import deepcopy\n",
    "\n",
    "from moveit_commander import PlanningSceneInterface\n",
    "\n",
    "from geometry_msgs.msg import (\n",
    "    Pose,\n",
    "    PoseStamped,\n",
    "    Point,\n",
    "    Quaternion,\n",
    "    Vector3,\n",
    ")\n",
    "from commander.msg import Goal\n",
    "from commander.srv import (\n",
    "    ExecuteTrajectory,\n",
    "    PlanGoal,\n",
    "    PlanGoalRequest,\n",
    "    PlanSequence,\n",
    "    PlanSequenceRequest,\n",
    "    PickPlace,\n",
    "    GetTcpPose,\n",
    "    VisualizePoses,\n",
    "    SetEe,\n",
    ")\n",
    "from industrial_reconstruction_msgs.srv import (\n",
    "    StartReconstruction,\n",
    "    StartReconstructionRequest,\n",
    "    StopReconstruction,\n",
    "    StopReconstructionRequest,\n",
    ")\n",
    "\n",
    "from commander.utils import poses_from_yaml, load_scene\n",
    "\n",
    "CAPTURE = True\n",
    "\n",
    "rospy.init_node(\"reconstruction\")\n",
    "\n",
    "load_scene()\n",
    "\n",
    "plan_goal_srv = rospy.ServiceProxy(\"commander/plan_goal\", PlanGoal)\n",
    "plan_sequence_srv = rospy.ServiceProxy(\"commander/plan_sequence\", PlanSequence)\n",
    "execute_trajectory_srv = rospy.ServiceProxy(\"commander/execute_trajectory\", ExecuteTrajectory)\n",
    "get_tcp_pose_srv = rospy.ServiceProxy(\"commander/get_tcp_pose\", GetTcpPose)\n",
    "set_ee_srv = rospy.ServiceProxy(\"commander/set_ee\", SetEe)\n",
    "pick_place_srv = rospy.ServiceProxy(\"commander/pick_place\", PickPlace)\n",
    "\n",
    "if CAPTURE:\n",
    "    start_recon = rospy.ServiceProxy(\"/start_reconstruction\", StartReconstruction)\n",
    "    stop_recon = rospy.ServiceProxy(\"/stop_reconstruction\", StopReconstruction)\n",
    "\n",
    "\n",
    "def display_poses(poses: List[Pose], frame_id: str = \"base_link\") -> None:\n",
    "    rospy.wait_for_service(\"/visualize_poses\", timeout=10)\n",
    "    visualize_poses = rospy.ServiceProxy(\"/visualize_poses\", VisualizePoses)\n",
    "    visualize_poses(frame_id, poses)\n",
    "\n",
    "\n",
    "def gen_recon_msg(path: str) -> Tuple[StartReconstructionRequest, StopReconstructionRequest]:\n",
    "    start_srv_req = StartReconstructionRequest()\n",
    "    start_srv_req.tracking_frame = \"rgb_camera_tcp\"\n",
    "    start_srv_req.relative_frame = \"base_link\"\n",
    "    start_srv_req.translation_distance = 0.0\n",
    "    start_srv_req.rotational_distance = 0.0\n",
    "    start_srv_req.live = True\n",
    "    start_srv_req.tsdf_params.voxel_length = 0.001\n",
    "    start_srv_req.tsdf_params.sdf_trunc = 0.002\n",
    "    start_srv_req.tsdf_params.min_box_values = Vector3(x=0.0, y=0.0, z=0.0)\n",
    "    start_srv_req.tsdf_params.max_box_values = Vector3(x=0.0, y=0.0, z=0.0)\n",
    "    start_srv_req.rgbd_params.depth_scale = 1\n",
    "    start_srv_req.rgbd_params.depth_trunc = 1.0\n",
    "    start_srv_req.rgbd_params.convert_rgb_to_intensity = False\n",
    "\n",
    "    stop_srv_req = StopReconstructionRequest()\n",
    "    path = path + datetime.now().strftime(\"%m_%d_%H_%M\") + \".ply\"\n",
    "    stop_srv_req.mesh_filepath = path\n",
    "\n",
    "    return start_srv_req, stop_srv_req"
   ]
  },
  {
   "cell_type": "markdown",
   "metadata": {},
   "source": []
  },
  {
   "cell_type": "code",
   "execution_count": 2,
   "metadata": {},
   "outputs": [],
   "source": [
    "cam_home = [0, -pi / 2, pi / 2, 0, pi / 2, pi]\n",
    "target0 = Pose(\n",
    "    position=Point(0.7, -0.3, 0.35),\n",
    "    orientation=Quaternion(0.7071067811865476, -0.7071067811865475, 0.0, 0.0),\n",
    ")\n",
    "target1 = Pose(\n",
    "    position=Point(0.7, 0.3, 0.35),\n",
    "    orientation=Quaternion(0.7071067811865476, -0.7071067811865475, 0.0, 0.0),\n",
    ")\n",
    "display_poses([target0, target1])\n",
    "success = set_ee_srv(\"rgb_camera_tcp\")"
   ]
  },
  {
   "cell_type": "code",
   "execution_count": 3,
   "metadata": {},
   "outputs": [],
   "source": [
    "resp = plan_goal_srv(Goal(joint_values=cam_home, vel_scale=0.2, acc_scale=0.1, planner=\"ptp\"))"
   ]
  },
  {
   "cell_type": "code",
   "execution_count": 4,
   "metadata": {},
   "outputs": [
    {
     "data": {
      "text/plain": [
       "success: True"
      ]
     },
     "execution_count": 4,
     "metadata": {},
     "output_type": "execute_result"
    }
   ],
   "source": [
    "execute_trajectory_srv()"
   ]
  },
  {
   "cell_type": "code",
   "execution_count": 5,
   "metadata": {},
   "outputs": [
    {
     "name": "stdout",
     "output_type": "stream",
     "text": [
      "Start recon\n"
     ]
    }
   ],
   "source": [
    "if CAPTURE:\n",
    "    start_recon_req, stop_recon_req = gen_recon_msg(\"/home/chi/capture\")\n",
    "\n",
    "resp = plan_goal_srv(Goal(pose=target0, vel_scale=0.1, acc_scale=0.1, planner=\"ptp\"))\n",
    "if resp.success and not resp.configuration_change:\n",
    "    print(\"Start recon\")\n",
    "    if CAPTURE:\n",
    "        start_recon(start_recon_req)\n",
    "    execute_trajectory_srv()\n",
    "else:\n",
    "    rospy.loginfo(\"Failed to plan\")\n",
    "    exit()\n",
    "\n",
    "resp = plan_goal_srv(Goal(pose=target1, vel_scale=0.05, acc_scale=0.05, planner=\"lin\"))\n",
    "if resp.success and not resp.configuration_change:\n",
    "    execute_trajectory_srv()\n",
    "else:\n",
    "    rospy.loginfo(\"Failed to plan\")\n",
    "    exit()\n",
    "if CAPTURE:\n",
    "    stop_recon(stop_recon_req)"
   ]
  }
 ],
 "metadata": {
  "kernelspec": {
   "display_name": "Python 3",
   "language": "python",
   "name": "python3"
  },
  "language_info": {
   "codemirror_mode": {
    "name": "ipython",
    "version": 3
   },
   "file_extension": ".py",
   "mimetype": "text/x-python",
   "name": "python",
   "nbconvert_exporter": "python",
   "pygments_lexer": "ipython3",
   "version": "3.8.10"
  },
  "orig_nbformat": 4
 },
 "nbformat": 4,
 "nbformat_minor": 2
}
